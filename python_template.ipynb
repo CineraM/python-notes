{
 "cells": [
  {
   "cell_type": "markdown",
   "metadata": {},
   "source": [
    "# TEMPLATE - PYTHON 101\n"
   ]
  },
  {
   "cell_type": "markdown",
   "metadata": {},
   "source": [
    "# BASICS\n"
   ]
  },
  {
   "cell_type": "code",
   "execution_count": 2,
   "metadata": {},
   "outputs": [
    {
     "name": "stdout",
     "output_type": "stream",
     "text": [
      "4\n",
      "[1, 23, 3]\n"
     ]
    }
   ],
   "source": [
    "a = [1, 23, 3, 4]\n",
    "\n",
    "b = a.pop()"
   ]
  },
  {
   "cell_type": "code",
   "execution_count": 20,
   "metadata": {},
   "outputs": [
    {
     "data": {
      "text/plain": [
       "False"
      ]
     },
     "execution_count": 20,
     "metadata": {},
     "output_type": "execute_result"
    }
   ],
   "source": [
    "################## PYTHON BASICS #######################\n",
    "\n",
    "my_var = None # --> null, nullptr\n",
    "#########################################\n",
    "############ String #####################\n",
    "#########################################\n",
    "string = \"String _ tEst\"\n",
    "char = 's'\n",
    "#LOWER / UPPER CHARACTERS\n",
    "string = string.lower()\n",
    "string = string.upper()\n",
    "# check if char is letter\n",
    "char.isalpha()\n",
    "# check if character is a number \n",
    "char.isnumeric()\n",
    "\n",
    "\n",
    "# string[start:end:step]\n",
    "# delete the 1st two chars of a string\n",
    "string = string[2:] \n",
    "\n",
    "# reverse string\n",
    "string = string[::-1]\n",
    "\n",
    "# replaces in all string\n",
    "str.replace(old, new[, max]) \n",
    "\n",
    "#########################################\n",
    "############ arrays aka lists ###########\n",
    "#########################################\n",
    "\n",
    "my_list = [1, 2, 4, 5, 6]\n",
    "del my_list[2]      # delete element by index\n",
    "my_list.remove(2)   # remove element by element\n",
    "\n",
    "\n",
    "###### Casting ######\n",
    "str_num = \"23\"\n",
    "num = int(str_num) # --> 23\n",
    "\n",
    "#########################################\n",
    "######### BINARY REPRESENTAION ##########\n",
    "#########################################\n",
    "num = bin(5)\n",
    "# --> 0b101\n",
    "\n",
    "\n",
    "# class syntax\n",
    "class Mammal:\n",
    "  def walk(self):\n",
    "    print(\"walk\")\n",
    "#parent class inside the brackets\n",
    "class Dog(Mammal):\n",
    "    def bark(self):\n",
    "        print(\"bark\")\n",
    "#pass doesnt really mean anything\n",
    "#python doesnt like empty classes\n",
    "class Cat(Mammal):\n",
    "    pass\n",
    "#creaing a dog object\n",
    "dog1 = Dog()\n",
    "dog1.walk()\n",
    "dog1.bark()\n"
   ]
  },
  {
   "cell_type": "markdown",
   "metadata": {},
   "source": [
    "# Data Structuers"
   ]
  },
  {
   "cell_type": "code",
   "execution_count": null,
   "metadata": {},
   "outputs": [],
   "source": [
    "# Linked List\n",
    "# Node class\n",
    "class Node:\n",
    "  \n",
    "    # Function to initialize the node object\n",
    "    def __init__(self, data):\n",
    "        self.data = data  # Assign data\n",
    "        self.next = None  # Initialize\n",
    "                          # next as null\n",
    "  \n",
    "# Linked List class\n",
    "class LinkedList:\n",
    "    \n",
    "    # Function to initialize the Linked\n",
    "    # List object\n",
    "    def __init__(self):\n",
    "        self.head = None\n",
    "        \n",
    "        \n",
    "# Definition for singly-linked list.\n",
    "class ListNode(object):\n",
    "    def __init__(self, val=0, next=None):\n",
    "        self.val = val\n",
    "        self.next = next\n",
    "# Definition for a binary tree node.\n",
    "class TreeNode(object):\n",
    "    def __init__(self, val=0, left=None, right=None):\n",
    "        self.val = val\n",
    "        self.left = left\n",
    "        self.right = right"
   ]
  },
  {
   "cell_type": "markdown",
   "metadata": {},
   "source": [
    "# Numpy 101\n"
   ]
  },
  {
   "cell_type": "code",
   "execution_count": 3,
   "metadata": {},
   "outputs": [
    {
     "data": {
      "text/plain": [
       "24"
      ]
     },
     "execution_count": 3,
     "metadata": {},
     "output_type": "execute_result"
    }
   ],
   "source": [
    "# basics\n",
    "# creating arrays\n",
    "\n",
    "myarray = np.array([1, 2, 3])\n",
    "my2darray = np.array([[1, 2, 3], [4, 5, 6]])\n",
    "\n",
    "## Get dimension of numpy arrays.\n",
    "myarray.ndim \n",
    "my2darray.ndim\n",
    "\n",
    "## Num of rows and cols within the array.\n",
    "my2darray.shape\n",
    "\n",
    "## Get item size of the elements of the array\n",
    "my2darray.itemsize\n",
    "\n",
    "## Get total size\n",
    "my2darray.nbytes"
   ]
  },
  {
   "cell_type": "markdown",
   "metadata": {},
   "source": [
    "- Accessing/Changing specific elements, rows, columns, etc."
   ]
  },
  {
   "cell_type": "code",
   "execution_count": 4,
   "metadata": {},
   "outputs": [
    {
     "name": "stdout",
     "output_type": "stream",
     "text": [
      "13\n",
      "[1 2 3 4 5 6 7]\n",
      "[ 3 10]\n",
      "[2 4 6]\n"
     ]
    },
    {
     "data": {
      "text/plain": [
       "array([[ 1,  2,  1,  4,  5,  6,  7],\n",
       "       [ 8,  9,  2, 11, 12, 20, 14]])"
      ]
     },
     "execution_count": 4,
     "metadata": {},
     "output_type": "execute_result"
    }
   ],
   "source": [
    "myarray = np.array([[1, 2, 3, 4 ,5 ,6 ,7],[8, 9, 10, 11, 12, 13, 14]])\n",
    "\n",
    "## Get a specific element [row, col]\n",
    "print(myarray[1, 5])\n",
    "\n",
    "## Get a specifc row\n",
    "print(myarray[0, :])\n",
    "\n",
    "## Get a specific col\n",
    "print(myarray[:, 2])\n",
    "\n",
    "## Getting fancy [startindex, endindex, stepsize]\n",
    "print(myarray[0, 1:6:2])\n",
    "\n",
    "## Changing element\n",
    "myarray[1, 5] = 20\n",
    "\n",
    "## Replacing an entire column\n",
    "myarray[:, 2] = [1, 2]\n",
    "myarray"
   ]
  },
  {
   "cell_type": "markdown",
   "metadata": {},
   "source": [
    "- Initializing Different Types of Arrays."
   ]
  },
  {
   "cell_type": "code",
   "execution_count": 5,
   "metadata": {},
   "outputs": [
    {
     "data": {
      "text/plain": [
       "array([[4, 4, 4, 4, 4, 4, 4],\n",
       "       [4, 4, 4, 4, 4, 4, 4]])"
      ]
     },
     "execution_count": 5,
     "metadata": {},
     "output_type": "execute_result"
    }
   ],
   "source": [
    "## ALL 0's Array\n",
    "np.zeros((3, 4))\n",
    "\n",
    "## ALL 1's Matrix\n",
    "np.ones((2, 2))\n",
    "\n",
    "## Any other number\n",
    "np.full((2, 4), 69)\n",
    "\n",
    "## Any other full-like\n",
    "np.full_like(myarray, 4)\n",
    "\n",
    "## Random integer values\n",
    "np.random.randint(1, 100, size=(2, 2))\n",
    "\n",
    "## Identity Matrix, square-shaped matrix\n",
    "np.identity(3)\n",
    "\n",
    "## Repeat an element based upon different axis points\n",
    "newArray = np.array([[1,2,3]])\n",
    "e1 = np.repeat(newArray, 3, axis=0)"
   ]
  },
  {
   "cell_type": "markdown",
   "metadata": {},
   "source": [
    "- Math\n"
   ]
  },
  {
   "cell_type": "code",
   "execution_count": null,
   "metadata": {},
   "outputs": [],
   "source": [
    "a = np.array([1, 2 ,3 ,4])\n",
    "\n",
    "## Array element operations.\n",
    "print(a + 2)\n",
    "print(a - 2)\n",
    "print(a * 2)\n",
    "print(a / 2)\n",
    "print(a ** 2)\n",
    "\n",
    "## Get the sin of every element within an array\n",
    "print(np.sin(a))\n",
    "print(np.cos(a))\n",
    "print(np.cosh(a))\n",
    "print(np.tan(a))\n"
   ]
  },
  {
   "cell_type": "markdown",
   "metadata": {},
   "source": [
    "- Linear Algebra"
   ]
  },
  {
   "cell_type": "code",
   "execution_count": 6,
   "metadata": {},
   "outputs": [
    {
     "data": {
      "text/plain": [
       "array([[1., 1.],\n",
       "       [1., 1.]])"
      ]
     },
     "execution_count": 6,
     "metadata": {},
     "output_type": "execute_result"
    }
   ],
   "source": [
    "## Multiplying matrices\n",
    "a = np.ones((2, 3))\n",
    "print(a)\n",
    "\n",
    "b = np.full((3, 2), 2)\n",
    "print(b)\n",
    "\n",
    "np.matmul(a, b)\n",
    "\n",
    "## finding the identity matrix\n",
    "c = np.identity(3)\n",
    "np.linalg.det(c)"
   ]
  },
  {
   "cell_type": "markdown",
   "metadata": {},
   "source": [
    "# Pandas"
   ]
  },
  {
   "cell_type": "code",
   "execution_count": null,
   "metadata": {},
   "outputs": [],
   "source": [
    "import pandas as pd"
   ]
  }
 ],
 "metadata": {
  "interpreter": {
   "hash": "acfd08a7faa67adda30a139a14258a4609e125be16bd9d56539cb9e1d9f3c0a6"
  },
  "kernelspec": {
   "display_name": "Python 3.10.2 64-bit",
   "language": "python",
   "name": "python3"
  },
  "language_info": {
   "codemirror_mode": {
    "name": "ipython",
    "version": 3
   },
   "file_extension": ".py",
   "mimetype": "text/x-python",
   "name": "python",
   "nbconvert_exporter": "python",
   "pygments_lexer": "ipython3",
   "version": "3.9.6"
  },
  "orig_nbformat": 4
 },
 "nbformat": 4,
 "nbformat_minor": 2
}
